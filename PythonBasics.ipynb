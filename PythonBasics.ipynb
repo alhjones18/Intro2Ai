{
  "nbformat": 4,
  "nbformat_minor": 0,
  "metadata": {
    "colab": {
      "provenance": [],
      "include_colab_link": true
    },
    "kernelspec": {
      "name": "python3",
      "display_name": "Python 3"
    },
    "language_info": {
      "name": "python"
    }
  },
  "cells": [
    {
      "cell_type": "markdown",
      "metadata": {
        "id": "view-in-github",
        "colab_type": "text"
      },
      "source": [
        "<a href=\"https://colab.research.google.com/github/alhjones18/Intro2Ai/blob/main/PythonBasics.ipynb\" target=\"_parent\"><img src=\"https://colab.research.google.com/assets/colab-badge.svg\" alt=\"Open In Colab\"/></a>"
      ]
    },
    {
      "cell_type": "code",
      "execution_count": null,
      "metadata": {
        "colab": {
          "base_uri": "https://localhost:8080/"
        },
        "id": "CUEUpDZY7l2A",
        "outputId": "d35fae70-9d9f-4713-ab92-c4ddc6fd3ffa"
      },
      "outputs": [
        {
          "output_type": "stream",
          "name": "stdout",
          "text": [
            "Hello World!\n"
          ]
        }
      ],
      "source": [
        "print('Hello World!')"
      ]
    },
    {
      "cell_type": "markdown",
      "source": [
        "### This Notebook Shows Python Basics\n",
        "\n",
        "The hash symbol # can be used to create a comment in python, text which is ignored when running the program, but useful for documentation.  \n",
        "\n",
        "Most programming languages have several built-in data types.  \n",
        "\n",
        "**Python Primitive Datatypes**\n",
        "* int (integer)\n",
        "* str (string)\n",
        "* float\n",
        "* bool (boolean, true or false)\n",
        "\n",
        "\n"
      ],
      "metadata": {
        "id": "t9If8bRM9On5"
      }
    },
    {
      "cell_type": "code",
      "source": [
        "x = 5           # int example\n",
        "s = 'hello'     # str example\n",
        "temp = 98.6     # float example\n",
        "iAmSam = False  # bool example\n",
        "y = 98.2 #str\n",
        "print(x + temp)"
      ],
      "metadata": {
        "id": "V4_Z3rv08Gw_",
        "colab": {
          "base_uri": "https://localhost:8080/"
        },
        "outputId": "e2eead8a-8e7b-4845-b9ff-55f6f46f74fd"
      },
      "execution_count": null,
      "outputs": [
        {
          "output_type": "stream",
          "name": "stdout",
          "text": [
            "103.6\n"
          ]
        }
      ]
    },
    {
      "cell_type": "markdown",
      "source": [
        "\n",
        "**Python Collection Types**\n",
        "* list - ordered, indexed, like an array, mutable\n",
        "* tuple - immutable list\n",
        "* dict - a hashtable, a set of key,value data pairs\n"
      ],
      "metadata": {
        "id": "mFNUx5_c_WDU"
      }
    },
    {
      "cell_type": "code",
      "source": [
        "my_list = ['I', 'love', 'CIS']\n",
        "my_list2 = [3, 'hello', 'frogs', 4.3, True]\n",
        "my_tuple = ('Purple', 'Eagles')\n",
        "my_list[2] = 'Fruit'\n",
        "print(my_list[2])\n",
        "example_dict = {'triangle':3, 'square':4, 'septagon':7}\n",
        "example_dict['decagon'] = 10\n",
        "print(example_dict['septagon'])"
      ],
      "metadata": {
        "id": "zbqwAY2I_XvL",
        "colab": {
          "base_uri": "https://localhost:8080/"
        },
        "outputId": "5c2c49fd-ce69-4c1c-ca21-9e58614617ba"
      },
      "execution_count": null,
      "outputs": [
        {
          "output_type": "stream",
          "name": "stdout",
          "text": [
            "Fruit\n",
            "7\n"
          ]
        }
      ]
    },
    {
      "cell_type": "markdown",
      "source": [
        "## The Representation Problem\n",
        "\n",
        "How do we code states and actions of a real world problem in a programming language.\n",
        "\n",
        "\n",
        "**PEAS**\n",
        "\n",
        "* Performance measure\n",
        "* Environment\n",
        "  * includes **state** and\n",
        "  * rules for how **actions** update the state\n",
        "* Actions\n",
        "* Sensors\n",
        "\n",
        "* agent - an autonomous program that sees through sensors and determines actions.\n",
        "\n",
        "\n",
        "continuous vs. discreet\n",
        "\n",
        "\n",
        "#### Example: Farmer, Wolf, Sheep, Oats, River problem"
      ],
      "metadata": {
        "id": "H8dszOdqCkpJ"
      }
    },
    {
      "cell_type": "code",
      "source": [
        "# STATE\n",
        "farmer_is_on_top = True #'is' signifies it's boolean\n",
        "wolf_is_on_top = True\n",
        "sheep_is_on_top = True\n",
        "oats_is_on_top = True\n",
        "\n",
        "oats_is_intact = True\n",
        "sheep_is_alive = True\n",
        "\n",
        "def print_state():\n",
        "  \"\"\" Prints all the parties on top of river bank, followed by =======,\n",
        "  then all parties below the river bank \"\"\"\n",
        "  # TODO\n",
        "  if farmer_is_on_top == True:\n",
        "    print('FARMER')\n",
        "  if wolf_is_on_top:\n",
        "    print('WOLF')\n",
        "  if sheep_is_on_top:\n",
        "    print('SHEEP')\n",
        "  print('OATS' if oats_is_on_top else ' ')\n",
        "  print('==================') #this is the river\n",
        "  if farmer_is_on_top == True:\n",
        "    print('FARMER')\n",
        "  if wolf_is_on_top:\n",
        "    print('WOLF')\n",
        "  if sheep_is_on_top:\n",
        "    print('SHEEP')\n",
        "  print('OATS' if oats_is_on_top else ' ')\n",
        "\n",
        "\n",
        "# ACTIONS\n",
        "\n",
        "def move(thing):\n",
        "  \"\"\" Updates STATE variables given that the farmer moves thing.\n",
        "  thing must be one of 'wolf', 'sheep', 'oats' \"\"\"\n",
        "  # TODO\n",
        "  #think about how to encode this in a move function\n",
        "\n",
        "##############\n",
        "print_state()\n"
      ],
      "metadata": {
        "id": "1GcYhT2EEWej",
        "colab": {
          "base_uri": "https://localhost:8080/"
        },
        "outputId": "78fe9b50-86cd-4f0f-b9f8-6c75be6b8a03"
      },
      "execution_count": null,
      "outputs": [
        {
          "output_type": "stream",
          "name": "stdout",
          "text": [
            "FARMER\n",
            "WOLF\n",
            "SHEEP\n",
            "OATS\n",
            "==================\n",
            "FARMER\n",
            "WOLF\n",
            "SHEEP\n",
            "OATS\n"
          ]
        }
      ]
    }
  ]
}